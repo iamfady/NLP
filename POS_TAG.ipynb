{
  "nbformat": 4,
  "nbformat_minor": 0,
  "metadata": {
    "colab": {
      "provenance": [],
      "authorship_tag": "ABX9TyOpXiScjRD6XcDt+Y4rHf8U",
      "include_colab_link": true
    },
    "kernelspec": {
      "name": "python3",
      "display_name": "Python 3"
    },
    "language_info": {
      "name": "python"
    }
  },
  "cells": [
    {
      "cell_type": "markdown",
      "metadata": {
        "id": "view-in-github",
        "colab_type": "text"
      },
      "source": [
        "<a href=\"https://colab.research.google.com/github/iamfady/NLP/blob/main/POS_TAG.ipynb\" target=\"_parent\"><img src=\"https://colab.research.google.com/assets/colab-badge.svg\" alt=\"Open In Colab\"/></a>"
      ]
    },
    {
      "cell_type": "markdown",
      "source": [
        "\n",
        "\n",
        "Part-of-speech (POS) tagging is a fundamental task in natural language processing (NLP) that involves identifying the grammatical category of each word in a given text. There are several reasons why POS tagging is important in NLP:\n",
        "\n",
        "Parsing: POS tagging is a crucial step in syntactic parsing, which involves analyzing the structure of a sentence to determine its meaning. By identifying the part of speech of each word in a sentence, we can construct a parse tree that represents the syntactic structure of the sentence.\n",
        "\n",
        "Information retrieval: POS tagging can be used to improve the accuracy of information retrieval systems. By identifying the part of speech of a query term, we can narrow down the search space and retrieve only the relevant documents.\n",
        "\n",
        "Machine translation: POS tagging can be used to improve the accuracy of machine translation systems. By identifying the part of speech of each word in a sentence, we can generate more accurate translations that preserve the grammatical structure of the original sentence.\n",
        "\n",
        "Sentiment analysis: POS tagging can be used to improve the accuracy of sentiment analysis, which involves identifying the emotional tone of a piece of text. By identifying the part of speech of each word, we can identify words that are likely to carry sentiment and use them to predict the overall sentiment of the text.\n",
        "\n",
        "Overall, POS tagging is an essential task in NLP that enables a wide range of applications, including parsing, information retrieval, machine translation, and sentiment analysis.\n"
      ],
      "metadata": {
        "id": "QjqES5ivzefo"
      }
    },
    {
      "cell_type": "code",
      "source": [
        "!python -m spacy download en_core_web_sm"
      ],
      "metadata": {
        "colab": {
          "base_uri": "https://localhost:8080/"
        },
        "id": "Hy0fAwFzzl7v",
        "outputId": "1547b33a-175a-40dc-ea85-b07ecf9b6983"
      },
      "execution_count": 2,
      "outputs": [
        {
          "output_type": "stream",
          "name": "stdout",
          "text": [
            "Collecting en-core-web-sm==3.8.0\n",
            "  Downloading https://github.com/explosion/spacy-models/releases/download/en_core_web_sm-3.8.0/en_core_web_sm-3.8.0-py3-none-any.whl (12.8 MB)\n",
            "\u001b[2K     \u001b[90m━━━━━━━━━━━━━━━━━━━━━━━━━━━━━━━━━━━━━━━━\u001b[0m \u001b[32m12.8/12.8 MB\u001b[0m \u001b[31m88.5 MB/s\u001b[0m eta \u001b[36m0:00:00\u001b[0m\n",
            "\u001b[?25h\u001b[38;5;2m✔ Download and installation successful\u001b[0m\n",
            "You can now load the package via spacy.load('en_core_web_sm')\n",
            "\u001b[38;5;3m⚠ Restart to reload dependencies\u001b[0m\n",
            "If you are in a Jupyter or Colab notebook, you may need to restart Python in\n",
            "order to load all the package's dependencies. You can do this by selecting the\n",
            "'Restart kernel' or 'Restart runtime' option.\n"
          ]
        }
      ]
    },
    {
      "cell_type": "code",
      "execution_count": 3,
      "metadata": {
        "id": "PuW9Yd_byl1-"
      },
      "outputs": [],
      "source": [
        "import spacy\n",
        "\n",
        "nlp = spacy.load(\"en_core_web_sm\")"
      ]
    },
    {
      "cell_type": "code",
      "source": [
        "doc = nlp(\"Elon flew to mars yesterday. He carried biryani masala with him\")\n",
        "\n",
        "for token in doc:\n",
        "    print(token,\" | \", token.pos_, \" | \", spacy.explain(token.pos_))"
      ],
      "metadata": {
        "colab": {
          "base_uri": "https://localhost:8080/"
        },
        "id": "HOn4uI4ozukE",
        "outputId": "29a7e160-3ad1-4fae-aa0b-b7480075b473"
      },
      "execution_count": 4,
      "outputs": [
        {
          "output_type": "stream",
          "name": "stdout",
          "text": [
            "Elon  |  PROPN  |  proper noun\n",
            "flew  |  VERB  |  verb\n",
            "to  |  ADP  |  adposition\n",
            "mars  |  NOUN  |  noun\n",
            "yesterday  |  NOUN  |  noun\n",
            ".  |  PUNCT  |  punctuation\n",
            "He  |  PRON  |  pronoun\n",
            "carried  |  VERB  |  verb\n",
            "biryani  |  ADJ  |  adjective\n",
            "masala  |  NOUN  |  noun\n",
            "with  |  ADP  |  adposition\n",
            "him  |  PRON  |  pronoun\n"
          ]
        }
      ]
    },
    {
      "cell_type": "code",
      "source": [
        "doc = nlp(\"Wow! Dr. Strange made 265 million $ on the very first day\")\n",
        "\n",
        "for token in doc:\n",
        "    print(token,\" | \", token.pos_, \" | \", spacy.explain(token.pos_))"
      ],
      "metadata": {
        "colab": {
          "base_uri": "https://localhost:8080/"
        },
        "id": "rg-uq1ORzwa6",
        "outputId": "194fa614-6a27-4e89-97b0-da53986189f7"
      },
      "execution_count": 5,
      "outputs": [
        {
          "output_type": "stream",
          "name": "stdout",
          "text": [
            "Wow  |  INTJ  |  interjection\n",
            "!  |  PUNCT  |  punctuation\n",
            "Dr.  |  PROPN  |  proper noun\n",
            "Strange  |  PROPN  |  proper noun\n",
            "made  |  VERB  |  verb\n",
            "265  |  NUM  |  numeral\n",
            "million  |  NUM  |  numeral\n",
            "$  |  NUM  |  numeral\n",
            "on  |  ADP  |  adposition\n",
            "the  |  DET  |  determiner\n",
            "very  |  ADV  |  adverb\n",
            "first  |  ADJ  |  adjective\n",
            "day  |  NOUN  |  noun\n"
          ]
        }
      ]
    },
    {
      "cell_type": "code",
      "source": [
        "doc = nlp(\"Wow! Dr. Strange made 265 million $ on the very first day\")\n",
        "\n",
        "for token in doc:\n",
        "    print(token,\" | \", token.pos_, \" | \", spacy.explain(token.pos_), \" | \", token.tag_, \" | \", spacy.explain(token.tag_))"
      ],
      "metadata": {
        "colab": {
          "base_uri": "https://localhost:8080/"
        },
        "id": "aAJDm1jtzyu0",
        "outputId": "3a306349-c43a-4081-d89d-fb2280b479cf"
      },
      "execution_count": 6,
      "outputs": [
        {
          "output_type": "stream",
          "name": "stdout",
          "text": [
            "Wow  |  INTJ  |  interjection  |  UH  |  interjection\n",
            "!  |  PUNCT  |  punctuation  |  .  |  punctuation mark, sentence closer\n",
            "Dr.  |  PROPN  |  proper noun  |  NNP  |  noun, proper singular\n",
            "Strange  |  PROPN  |  proper noun  |  NNP  |  noun, proper singular\n",
            "made  |  VERB  |  verb  |  VBD  |  verb, past tense\n",
            "265  |  NUM  |  numeral  |  CD  |  cardinal number\n",
            "million  |  NUM  |  numeral  |  CD  |  cardinal number\n",
            "$  |  NUM  |  numeral  |  CD  |  cardinal number\n",
            "on  |  ADP  |  adposition  |  IN  |  conjunction, subordinating or preposition\n",
            "the  |  DET  |  determiner  |  DT  |  determiner\n",
            "very  |  ADV  |  adverb  |  RB  |  adverb\n",
            "first  |  ADJ  |  adjective  |  JJ  |  adjective (English), other noun-modifier (Chinese)\n",
            "day  |  NOUN  |  noun  |  NN  |  noun, singular or mass\n"
          ]
        }
      ]
    },
    {
      "cell_type": "markdown",
      "source": [
        "## In below sentences Spacy figures out the past vs present tense for quit\n"
      ],
      "metadata": {
        "id": "AU1zpIJQz5a8"
      }
    },
    {
      "cell_type": "code",
      "source": [
        "doc = nlp(\"He quits the job\")\n",
        "\n",
        "print(doc[1].text, \"|\", doc[1].tag_, \"|\", spacy.explain(doc[1].tag_))"
      ],
      "metadata": {
        "colab": {
          "base_uri": "https://localhost:8080/"
        },
        "id": "Z_Ez9-k3z8QE",
        "outputId": "4a891199-ff6c-4316-83c9-373d7381a9a7"
      },
      "execution_count": 7,
      "outputs": [
        {
          "output_type": "stream",
          "name": "stdout",
          "text": [
            "quits | VBZ | verb, 3rd person singular present\n"
          ]
        }
      ]
    },
    {
      "cell_type": "code",
      "source": [
        "doc = nlp(\"he quit the job\")\n",
        "\n",
        "print(doc[1].text, \"|\", doc[1].tag_, \"|\", spacy.explain(doc[1].tag_))"
      ],
      "metadata": {
        "colab": {
          "base_uri": "https://localhost:8080/"
        },
        "id": "RHONClSkz-fE",
        "outputId": "a085086d-2980-4063-8142-f90c5c720b85"
      },
      "execution_count": 8,
      "outputs": [
        {
          "output_type": "stream",
          "name": "stdout",
          "text": [
            "quit | VBD | verb, past tense\n"
          ]
        }
      ]
    },
    {
      "cell_type": "markdown",
      "source": [
        "## Removing all SPACE, PUNCT and X token from text"
      ],
      "metadata": {
        "id": "zy0Ok6sR0CYi"
      }
    },
    {
      "cell_type": "code",
      "source": [
        "earnings_text=\"\"\"Microsoft Corp. today announced the following results for the quarter ended December 31, 2021, as compared to the corresponding period of last fiscal year:\n",
        "\n",
        "·         Revenue was $51.7 billion and increased 20%\n",
        "·         Operating income was $22.2 billion and increased 24%\n",
        "·         Net income was $18.8 billion and increased 21%\n",
        "·         Diluted earnings per share was $2.48 and increased 22%\n",
        "“Digital technology etc. is the most malleable resource at the world’s disposal to overcome constraints and reimagine everyday work and life,” said Satya Nadella, chairman and chief executive officer of Microsoft. “As tech as a percentage of global GDP continues to increase, we are innovating and investing across diverse and growing markets, with a common underlying technology stack and an operating model that reinforces a common strategy, culture, and sense of purpose.”\n",
        "“Solid commercial execution, represented by strong bookings growth driven by long-term Azure commitments, increased Microsoft Cloud revenue to $22.1 billion, up 32% year over year” said Amy Hood, executive vice president and chief financial officer of Microsoft.\"\"\"\n",
        "\n",
        "doc = nlp(earnings_text)\n",
        "\n",
        "for token in doc:\n",
        "    print(token,\" | \", token.pos_, \" | \", spacy.explain(token.pos_), \" | \", token.tag_, \" | \", spacy.explain(token.tag_))"
      ],
      "metadata": {
        "colab": {
          "base_uri": "https://localhost:8080/"
        },
        "id": "ne5alwah0F7D",
        "outputId": "1f37df83-6b6b-4323-f2ed-7c5499ed36e1"
      },
      "execution_count": 9,
      "outputs": [
        {
          "output_type": "stream",
          "name": "stdout",
          "text": [
            "Microsoft  |  PROPN  |  proper noun  |  NNP  |  noun, proper singular\n",
            "Corp.  |  PROPN  |  proper noun  |  NNP  |  noun, proper singular\n",
            "today  |  NOUN  |  noun  |  NN  |  noun, singular or mass\n",
            "announced  |  VERB  |  verb  |  VBD  |  verb, past tense\n",
            "the  |  DET  |  determiner  |  DT  |  determiner\n",
            "following  |  VERB  |  verb  |  VBG  |  verb, gerund or present participle\n",
            "results  |  NOUN  |  noun  |  NNS  |  noun, plural\n",
            "for  |  ADP  |  adposition  |  IN  |  conjunction, subordinating or preposition\n",
            "the  |  DET  |  determiner  |  DT  |  determiner\n",
            "quarter  |  NOUN  |  noun  |  NN  |  noun, singular or mass\n",
            "ended  |  VERB  |  verb  |  VBN  |  verb, past participle\n",
            "December  |  PROPN  |  proper noun  |  NNP  |  noun, proper singular\n",
            "31  |  NUM  |  numeral  |  CD  |  cardinal number\n",
            ",  |  PUNCT  |  punctuation  |  ,  |  punctuation mark, comma\n",
            "2021  |  NUM  |  numeral  |  CD  |  cardinal number\n",
            ",  |  PUNCT  |  punctuation  |  ,  |  punctuation mark, comma\n",
            "as  |  SCONJ  |  subordinating conjunction  |  IN  |  conjunction, subordinating or preposition\n",
            "compared  |  VERB  |  verb  |  VBN  |  verb, past participle\n",
            "to  |  ADP  |  adposition  |  IN  |  conjunction, subordinating or preposition\n",
            "the  |  DET  |  determiner  |  DT  |  determiner\n",
            "corresponding  |  ADJ  |  adjective  |  JJ  |  adjective (English), other noun-modifier (Chinese)\n",
            "period  |  NOUN  |  noun  |  NN  |  noun, singular or mass\n",
            "of  |  ADP  |  adposition  |  IN  |  conjunction, subordinating or preposition\n",
            "last  |  ADJ  |  adjective  |  JJ  |  adjective (English), other noun-modifier (Chinese)\n",
            "fiscal  |  ADJ  |  adjective  |  JJ  |  adjective (English), other noun-modifier (Chinese)\n",
            "year  |  NOUN  |  noun  |  NN  |  noun, singular or mass\n",
            ":  |  PUNCT  |  punctuation  |  :  |  punctuation mark, colon or ellipsis\n",
            "\n",
            "\n",
            "  |  SPACE  |  space  |  _SP  |  whitespace\n",
            "·  |  PUNCT  |  punctuation  |  NFP  |  superfluous punctuation\n",
            "          |  SPACE  |  space  |  _SP  |  whitespace\n",
            "Revenue  |  PROPN  |  proper noun  |  NNP  |  noun, proper singular\n",
            "was  |  AUX  |  auxiliary  |  VBD  |  verb, past tense\n",
            "$  |  SYM  |  symbol  |  $  |  symbol, currency\n",
            "51.7  |  NUM  |  numeral  |  CD  |  cardinal number\n",
            "billion  |  NUM  |  numeral  |  CD  |  cardinal number\n",
            "and  |  CCONJ  |  coordinating conjunction  |  CC  |  conjunction, coordinating\n",
            "increased  |  VERB  |  verb  |  VBD  |  verb, past tense\n",
            "20  |  NUM  |  numeral  |  CD  |  cardinal number\n",
            "%  |  NOUN  |  noun  |  NN  |  noun, singular or mass\n",
            "\n",
            "  |  SPACE  |  space  |  _SP  |  whitespace\n",
            "·  |  PUNCT  |  punctuation  |  NFP  |  superfluous punctuation\n",
            "          |  SPACE  |  space  |  _SP  |  whitespace\n",
            "Operating  |  NOUN  |  noun  |  NN  |  noun, singular or mass\n",
            "income  |  NOUN  |  noun  |  NN  |  noun, singular or mass\n",
            "was  |  AUX  |  auxiliary  |  VBD  |  verb, past tense\n",
            "$  |  SYM  |  symbol  |  $  |  symbol, currency\n",
            "22.2  |  NUM  |  numeral  |  CD  |  cardinal number\n",
            "billion  |  NUM  |  numeral  |  CD  |  cardinal number\n",
            "and  |  CCONJ  |  coordinating conjunction  |  CC  |  conjunction, coordinating\n",
            "increased  |  VERB  |  verb  |  VBD  |  verb, past tense\n",
            "24  |  NUM  |  numeral  |  CD  |  cardinal number\n",
            "%  |  NOUN  |  noun  |  NN  |  noun, singular or mass\n",
            "\n",
            "  |  SPACE  |  space  |  _SP  |  whitespace\n",
            "·  |  PUNCT  |  punctuation  |  NFP  |  superfluous punctuation\n",
            "          |  SPACE  |  space  |  _SP  |  whitespace\n",
            "Net  |  ADJ  |  adjective  |  JJ  |  adjective (English), other noun-modifier (Chinese)\n",
            "income  |  NOUN  |  noun  |  NN  |  noun, singular or mass\n",
            "was  |  AUX  |  auxiliary  |  VBD  |  verb, past tense\n",
            "$  |  SYM  |  symbol  |  $  |  symbol, currency\n",
            "18.8  |  NUM  |  numeral  |  CD  |  cardinal number\n",
            "billion  |  NUM  |  numeral  |  CD  |  cardinal number\n",
            "and  |  CCONJ  |  coordinating conjunction  |  CC  |  conjunction, coordinating\n",
            "increased  |  VERB  |  verb  |  VBD  |  verb, past tense\n",
            "21  |  NUM  |  numeral  |  CD  |  cardinal number\n",
            "%  |  NOUN  |  noun  |  NN  |  noun, singular or mass\n",
            "\n",
            "  |  SPACE  |  space  |  _SP  |  whitespace\n",
            "·  |  PUNCT  |  punctuation  |  NFP  |  superfluous punctuation\n",
            "          |  SPACE  |  space  |  _SP  |  whitespace\n",
            "Diluted  |  VERB  |  verb  |  VBN  |  verb, past participle\n",
            "earnings  |  NOUN  |  noun  |  NNS  |  noun, plural\n",
            "per  |  ADP  |  adposition  |  IN  |  conjunction, subordinating or preposition\n",
            "share  |  NOUN  |  noun  |  NN  |  noun, singular or mass\n",
            "was  |  AUX  |  auxiliary  |  VBD  |  verb, past tense\n",
            "$  |  SYM  |  symbol  |  $  |  symbol, currency\n",
            "2.48  |  NUM  |  numeral  |  CD  |  cardinal number\n",
            "and  |  CCONJ  |  coordinating conjunction  |  CC  |  conjunction, coordinating\n",
            "increased  |  VERB  |  verb  |  VBD  |  verb, past tense\n",
            "22  |  NUM  |  numeral  |  CD  |  cardinal number\n",
            "%  |  NOUN  |  noun  |  NN  |  noun, singular or mass\n",
            "\n",
            "  |  SPACE  |  space  |  _SP  |  whitespace\n",
            "“  |  PUNCT  |  punctuation  |  ``  |  opening quotation mark\n",
            "Digital  |  PROPN  |  proper noun  |  NNP  |  noun, proper singular\n",
            "technology  |  NOUN  |  noun  |  NN  |  noun, singular or mass\n",
            "etc  |  X  |  other  |  FW  |  foreign word\n",
            ".  |  X  |  other  |  FW  |  foreign word\n",
            "is  |  AUX  |  auxiliary  |  VBZ  |  verb, 3rd person singular present\n",
            "the  |  DET  |  determiner  |  DT  |  determiner\n",
            "most  |  ADV  |  adverb  |  RBS  |  adverb, superlative\n",
            "malleable  |  ADJ  |  adjective  |  JJ  |  adjective (English), other noun-modifier (Chinese)\n",
            "resource  |  NOUN  |  noun  |  NN  |  noun, singular or mass\n",
            "at  |  ADP  |  adposition  |  IN  |  conjunction, subordinating or preposition\n",
            "the  |  DET  |  determiner  |  DT  |  determiner\n",
            "world  |  NOUN  |  noun  |  NN  |  noun, singular or mass\n",
            "’s  |  PART  |  particle  |  POS  |  possessive ending\n",
            "disposal  |  NOUN  |  noun  |  NN  |  noun, singular or mass\n",
            "to  |  PART  |  particle  |  TO  |  infinitival \"to\"\n",
            "overcome  |  VERB  |  verb  |  VB  |  verb, base form\n",
            "constraints  |  NOUN  |  noun  |  NNS  |  noun, plural\n",
            "and  |  CCONJ  |  coordinating conjunction  |  CC  |  conjunction, coordinating\n",
            "reimagine  |  VERB  |  verb  |  VB  |  verb, base form\n",
            "everyday  |  ADJ  |  adjective  |  JJ  |  adjective (English), other noun-modifier (Chinese)\n",
            "work  |  NOUN  |  noun  |  NN  |  noun, singular or mass\n",
            "and  |  CCONJ  |  coordinating conjunction  |  CC  |  conjunction, coordinating\n",
            "life  |  NOUN  |  noun  |  NN  |  noun, singular or mass\n",
            ",  |  PUNCT  |  punctuation  |  ,  |  punctuation mark, comma\n",
            "”  |  PUNCT  |  punctuation  |  ''  |  closing quotation mark\n",
            "said  |  VERB  |  verb  |  VBD  |  verb, past tense\n",
            "Satya  |  PROPN  |  proper noun  |  NNP  |  noun, proper singular\n",
            "Nadella  |  PROPN  |  proper noun  |  NNP  |  noun, proper singular\n",
            ",  |  PUNCT  |  punctuation  |  ,  |  punctuation mark, comma\n",
            "chairman  |  NOUN  |  noun  |  NN  |  noun, singular or mass\n",
            "and  |  CCONJ  |  coordinating conjunction  |  CC  |  conjunction, coordinating\n",
            "chief  |  ADJ  |  adjective  |  JJ  |  adjective (English), other noun-modifier (Chinese)\n",
            "executive  |  ADJ  |  adjective  |  JJ  |  adjective (English), other noun-modifier (Chinese)\n",
            "officer  |  NOUN  |  noun  |  NN  |  noun, singular or mass\n",
            "of  |  ADP  |  adposition  |  IN  |  conjunction, subordinating or preposition\n",
            "Microsoft  |  PROPN  |  proper noun  |  NNP  |  noun, proper singular\n",
            ".  |  PUNCT  |  punctuation  |  .  |  punctuation mark, sentence closer\n",
            "“  |  PUNCT  |  punctuation  |  ``  |  opening quotation mark\n",
            "As  |  ADV  |  adverb  |  RB  |  adverb\n",
            "tech  |  ADJ  |  adjective  |  JJ  |  adjective (English), other noun-modifier (Chinese)\n",
            "as  |  ADP  |  adposition  |  IN  |  conjunction, subordinating or preposition\n",
            "a  |  DET  |  determiner  |  DT  |  determiner\n",
            "percentage  |  NOUN  |  noun  |  NN  |  noun, singular or mass\n",
            "of  |  ADP  |  adposition  |  IN  |  conjunction, subordinating or preposition\n",
            "global  |  ADJ  |  adjective  |  JJ  |  adjective (English), other noun-modifier (Chinese)\n",
            "GDP  |  PROPN  |  proper noun  |  NNP  |  noun, proper singular\n",
            "continues  |  VERB  |  verb  |  VBZ  |  verb, 3rd person singular present\n",
            "to  |  PART  |  particle  |  TO  |  infinitival \"to\"\n",
            "increase  |  VERB  |  verb  |  VB  |  verb, base form\n",
            ",  |  PUNCT  |  punctuation  |  ,  |  punctuation mark, comma\n",
            "we  |  PRON  |  pronoun  |  PRP  |  pronoun, personal\n",
            "are  |  AUX  |  auxiliary  |  VBP  |  verb, non-3rd person singular present\n",
            "innovating  |  VERB  |  verb  |  VBG  |  verb, gerund or present participle\n",
            "and  |  CCONJ  |  coordinating conjunction  |  CC  |  conjunction, coordinating\n",
            "investing  |  VERB  |  verb  |  VBG  |  verb, gerund or present participle\n",
            "across  |  ADP  |  adposition  |  IN  |  conjunction, subordinating or preposition\n",
            "diverse  |  ADJ  |  adjective  |  JJ  |  adjective (English), other noun-modifier (Chinese)\n",
            "and  |  CCONJ  |  coordinating conjunction  |  CC  |  conjunction, coordinating\n",
            "growing  |  VERB  |  verb  |  VBG  |  verb, gerund or present participle\n",
            "markets  |  NOUN  |  noun  |  NNS  |  noun, plural\n",
            ",  |  PUNCT  |  punctuation  |  ,  |  punctuation mark, comma\n",
            "with  |  ADP  |  adposition  |  IN  |  conjunction, subordinating or preposition\n",
            "a  |  DET  |  determiner  |  DT  |  determiner\n",
            "common  |  ADJ  |  adjective  |  JJ  |  adjective (English), other noun-modifier (Chinese)\n",
            "underlying  |  VERB  |  verb  |  VBG  |  verb, gerund or present participle\n",
            "technology  |  NOUN  |  noun  |  NN  |  noun, singular or mass\n",
            "stack  |  NOUN  |  noun  |  NN  |  noun, singular or mass\n",
            "and  |  CCONJ  |  coordinating conjunction  |  CC  |  conjunction, coordinating\n",
            "an  |  DET  |  determiner  |  DT  |  determiner\n",
            "operating  |  NOUN  |  noun  |  NN  |  noun, singular or mass\n",
            "model  |  NOUN  |  noun  |  NN  |  noun, singular or mass\n",
            "that  |  PRON  |  pronoun  |  WDT  |  wh-determiner\n",
            "reinforces  |  VERB  |  verb  |  VBZ  |  verb, 3rd person singular present\n",
            "a  |  DET  |  determiner  |  DT  |  determiner\n",
            "common  |  ADJ  |  adjective  |  JJ  |  adjective (English), other noun-modifier (Chinese)\n",
            "strategy  |  NOUN  |  noun  |  NN  |  noun, singular or mass\n",
            ",  |  PUNCT  |  punctuation  |  ,  |  punctuation mark, comma\n",
            "culture  |  NOUN  |  noun  |  NN  |  noun, singular or mass\n",
            ",  |  PUNCT  |  punctuation  |  ,  |  punctuation mark, comma\n",
            "and  |  CCONJ  |  coordinating conjunction  |  CC  |  conjunction, coordinating\n",
            "sense  |  NOUN  |  noun  |  NN  |  noun, singular or mass\n",
            "of  |  ADP  |  adposition  |  IN  |  conjunction, subordinating or preposition\n",
            "purpose  |  NOUN  |  noun  |  NN  |  noun, singular or mass\n",
            ".  |  PUNCT  |  punctuation  |  .  |  punctuation mark, sentence closer\n",
            "”  |  PUNCT  |  punctuation  |  ''  |  closing quotation mark\n",
            "\n",
            "  |  SPACE  |  space  |  _SP  |  whitespace\n",
            "“  |  PUNCT  |  punctuation  |  ``  |  opening quotation mark\n",
            "Solid  |  ADJ  |  adjective  |  JJ  |  adjective (English), other noun-modifier (Chinese)\n",
            "commercial  |  ADJ  |  adjective  |  JJ  |  adjective (English), other noun-modifier (Chinese)\n",
            "execution  |  NOUN  |  noun  |  NN  |  noun, singular or mass\n",
            ",  |  PUNCT  |  punctuation  |  ,  |  punctuation mark, comma\n",
            "represented  |  VERB  |  verb  |  VBN  |  verb, past participle\n",
            "by  |  ADP  |  adposition  |  IN  |  conjunction, subordinating or preposition\n",
            "strong  |  ADJ  |  adjective  |  JJ  |  adjective (English), other noun-modifier (Chinese)\n",
            "bookings  |  NOUN  |  noun  |  NNS  |  noun, plural\n",
            "growth  |  NOUN  |  noun  |  NN  |  noun, singular or mass\n",
            "driven  |  VERB  |  verb  |  VBN  |  verb, past participle\n",
            "by  |  ADP  |  adposition  |  IN  |  conjunction, subordinating or preposition\n",
            "long  |  ADJ  |  adjective  |  JJ  |  adjective (English), other noun-modifier (Chinese)\n",
            "-  |  PUNCT  |  punctuation  |  HYPH  |  punctuation mark, hyphen\n",
            "term  |  NOUN  |  noun  |  NN  |  noun, singular or mass\n",
            "Azure  |  PROPN  |  proper noun  |  NNP  |  noun, proper singular\n",
            "commitments  |  NOUN  |  noun  |  NNS  |  noun, plural\n",
            ",  |  PUNCT  |  punctuation  |  ,  |  punctuation mark, comma\n",
            "increased  |  VERB  |  verb  |  VBD  |  verb, past tense\n",
            "Microsoft  |  PROPN  |  proper noun  |  NNP  |  noun, proper singular\n",
            "Cloud  |  PROPN  |  proper noun  |  NNP  |  noun, proper singular\n",
            "revenue  |  NOUN  |  noun  |  NN  |  noun, singular or mass\n",
            "to  |  ADP  |  adposition  |  IN  |  conjunction, subordinating or preposition\n",
            "$  |  SYM  |  symbol  |  $  |  symbol, currency\n",
            "22.1  |  NUM  |  numeral  |  CD  |  cardinal number\n",
            "billion  |  NUM  |  numeral  |  CD  |  cardinal number\n",
            ",  |  PUNCT  |  punctuation  |  ,  |  punctuation mark, comma\n",
            "up  |  ADV  |  adverb  |  RB  |  adverb\n",
            "32  |  NUM  |  numeral  |  CD  |  cardinal number\n",
            "%  |  NOUN  |  noun  |  NN  |  noun, singular or mass\n",
            "year  |  NOUN  |  noun  |  NN  |  noun, singular or mass\n",
            "over  |  ADP  |  adposition  |  IN  |  conjunction, subordinating or preposition\n",
            "year  |  NOUN  |  noun  |  NN  |  noun, singular or mass\n",
            "”  |  PUNCT  |  punctuation  |  ''  |  closing quotation mark\n",
            "said  |  VERB  |  verb  |  VBD  |  verb, past tense\n",
            "Amy  |  PROPN  |  proper noun  |  NNP  |  noun, proper singular\n",
            "Hood  |  PROPN  |  proper noun  |  NNP  |  noun, proper singular\n",
            ",  |  PUNCT  |  punctuation  |  ,  |  punctuation mark, comma\n",
            "executive  |  ADJ  |  adjective  |  JJ  |  adjective (English), other noun-modifier (Chinese)\n",
            "vice  |  NOUN  |  noun  |  NN  |  noun, singular or mass\n",
            "president  |  NOUN  |  noun  |  NN  |  noun, singular or mass\n",
            "and  |  CCONJ  |  coordinating conjunction  |  CC  |  conjunction, coordinating\n",
            "chief  |  ADJ  |  adjective  |  JJ  |  adjective (English), other noun-modifier (Chinese)\n",
            "financial  |  ADJ  |  adjective  |  JJ  |  adjective (English), other noun-modifier (Chinese)\n",
            "officer  |  NOUN  |  noun  |  NN  |  noun, singular or mass\n",
            "of  |  ADP  |  adposition  |  IN  |  conjunction, subordinating or preposition\n",
            "Microsoft  |  PROPN  |  proper noun  |  NNP  |  noun, proper singular\n",
            ".  |  PUNCT  |  punctuation  |  .  |  punctuation mark, sentence closer\n"
          ]
        }
      ]
    },
    {
      "cell_type": "code",
      "source": [
        "earnings_text=\"\"\"Microsoft Corp. today announced the following results for the quarter ended December 31, 2021, as compared to the corresponding period of last fiscal year:\n",
        "\n",
        "·         Revenue was $51.7 billion and increased 20%\n",
        "·         Operating income was $22.2 billion and increased 24%\n",
        "·         Net income was $18.8 billion and increased 21%\n",
        "·         Diluted earnings per share was $2.48 and increased 22%\n",
        "“Digital technology is the most malleable resource at the world’s disposal to overcome constraints and reimagine everyday work and life,” said Satya Nadella, chairman and chief executive officer of Microsoft. “As tech as a percentage of global GDP continues to increase, we are innovating and investing across diverse and growing markets, with a common underlying technology stack and an operating model that reinforces a common strategy, culture, and sense of purpose.”\n",
        "“Solid commercial execution, represented by strong bookings growth driven by long-term Azure commitments, increased Microsoft Cloud revenue to $22.1 billion, up 32% year over year” said Amy Hood, executive vice president and chief financial officer of Microsoft.\"\"\"\n",
        "\n",
        "doc = nlp(earnings_text)\n",
        "\n",
        "filtered_tokens = []\n",
        "\n",
        "for token in doc:\n",
        "    if token.pos_ not in [\"SPACE\", \"PUNCT\", \"X\"]:\n",
        "        filtered_tokens.append(token)"
      ],
      "metadata": {
        "id": "eugLLzQS0J6b"
      },
      "execution_count": 10,
      "outputs": []
    },
    {
      "cell_type": "code",
      "source": [
        "filtered_tokens[:10]"
      ],
      "metadata": {
        "colab": {
          "base_uri": "https://localhost:8080/"
        },
        "id": "iHKDW6hK0Mzb",
        "outputId": "bbf72ff3-2857-4d8c-e9a6-320dace54ca5"
      },
      "execution_count": 11,
      "outputs": [
        {
          "output_type": "execute_result",
          "data": {
            "text/plain": [
              "[Microsoft,\n",
              " Corp.,\n",
              " today,\n",
              " announced,\n",
              " the,\n",
              " following,\n",
              " results,\n",
              " for,\n",
              " the,\n",
              " quarter]"
            ]
          },
          "metadata": {},
          "execution_count": 11
        }
      ]
    },
    {
      "cell_type": "code",
      "source": [
        "count = doc.count_by(spacy.attrs.POS)\n",
        "count"
      ],
      "metadata": {
        "colab": {
          "base_uri": "https://localhost:8080/"
        },
        "id": "2rJudZ1D0OSH",
        "outputId": "d42edc8e-e769-4a23-9fd7-c91d322ad941"
      },
      "execution_count": 12,
      "outputs": [
        {
          "output_type": "execute_result",
          "data": {
            "text/plain": [
              "{96: 15,\n",
              " 92: 45,\n",
              " 100: 23,\n",
              " 90: 9,\n",
              " 85: 16,\n",
              " 93: 16,\n",
              " 97: 27,\n",
              " 98: 1,\n",
              " 84: 20,\n",
              " 103: 10,\n",
              " 87: 6,\n",
              " 99: 5,\n",
              " 89: 12,\n",
              " 86: 3,\n",
              " 94: 3,\n",
              " 95: 2}"
            ]
          },
          "metadata": {},
          "execution_count": 12
        }
      ]
    },
    {
      "cell_type": "code",
      "source": [
        "doc.vocab[96].text"
      ],
      "metadata": {
        "colab": {
          "base_uri": "https://localhost:8080/",
          "height": 36
        },
        "id": "3RElqvEU0Pqc",
        "outputId": "9ec40646-c444-4f6c-d4b3-6635dc716a2e"
      },
      "execution_count": 13,
      "outputs": [
        {
          "output_type": "execute_result",
          "data": {
            "text/plain": [
              "'PROPN'"
            ],
            "application/vnd.google.colaboratory.intrinsic+json": {
              "type": "string"
            }
          },
          "metadata": {},
          "execution_count": 13
        }
      ]
    },
    {
      "cell_type": "code",
      "source": [
        "count.items()"
      ],
      "metadata": {
        "colab": {
          "base_uri": "https://localhost:8080/"
        },
        "id": "pXutgGXP0Q9p",
        "outputId": "2a4731de-ca88-4ea0-85f4-6ed32681189d"
      },
      "execution_count": 14,
      "outputs": [
        {
          "output_type": "execute_result",
          "data": {
            "text/plain": [
              "dict_items([(96, 15), (92, 45), (100, 23), (90, 9), (85, 16), (93, 16), (97, 27), (98, 1), (84, 20), (103, 10), (87, 6), (99, 5), (89, 12), (86, 3), (94, 3), (95, 2)])"
            ]
          },
          "metadata": {},
          "execution_count": 14
        }
      ]
    },
    {
      "cell_type": "code",
      "source": [
        "for k,v in count.items():\n",
        "    print(doc.vocab[k].text, \"|\",v)"
      ],
      "metadata": {
        "colab": {
          "base_uri": "https://localhost:8080/"
        },
        "id": "6IlVkuKu0SPE",
        "outputId": "f1c2419e-209a-4139-f239-8bab4dddcc39"
      },
      "execution_count": 15,
      "outputs": [
        {
          "output_type": "stream",
          "name": "stdout",
          "text": [
            "PROPN | 15\n",
            "NOUN | 45\n",
            "VERB | 23\n",
            "DET | 9\n",
            "ADP | 16\n",
            "NUM | 16\n",
            "PUNCT | 27\n",
            "SCONJ | 1\n",
            "ADJ | 20\n",
            "SPACE | 10\n",
            "AUX | 6\n",
            "SYM | 5\n",
            "CCONJ | 12\n",
            "ADV | 3\n",
            "PART | 3\n",
            "PRON | 2\n"
          ]
        }
      ]
    },
    {
      "cell_type": "code",
      "source": [
        "import nltk\n",
        "nltk.download('punkt')\n",
        "# nltk.download('punkt_tab') # This download seems redundant and might not be necessary.\n",
        "nltk.download('averaged_perceptron_tagger')\n",
        "# The traceback indicates that 'averaged_perceptron_tagger_eng' is the specific resource needed.\n",
        "# Let's explicitly download this resource to ensure it's available.\n",
        "nltk.download('averaged_perceptron_tagger_eng')\n",
        "\n",
        "\n",
        "text = \"The quick brown fox jumps over the lazy dog.\"\n",
        "\n",
        "# Tokenize the text into individual words\n",
        "words = nltk.word_tokenize(text)\n",
        "\n",
        "# Perform POS tagging on the tokenized words\n",
        "pos_tags = nltk.pos_tag(words)\n",
        "\n",
        "# Print the POS tags for each word\n",
        "for word, tag in pos_tags:\n",
        "    print(word, tag)"
      ],
      "metadata": {
        "colab": {
          "base_uri": "https://localhost:8080/"
        },
        "id": "AHICuUkK0W4j",
        "outputId": "f65bfcd6-deae-43ee-af40-09639e317c76"
      },
      "execution_count": 21,
      "outputs": [
        {
          "output_type": "stream",
          "name": "stderr",
          "text": [
            "[nltk_data] Downloading package punkt to /root/nltk_data...\n",
            "[nltk_data]   Package punkt is already up-to-date!\n",
            "[nltk_data] Downloading package averaged_perceptron_tagger to\n",
            "[nltk_data]     /root/nltk_data...\n",
            "[nltk_data]   Package averaged_perceptron_tagger is already up-to-\n",
            "[nltk_data]       date!\n",
            "[nltk_data] Downloading package averaged_perceptron_tagger_eng to\n",
            "[nltk_data]     /root/nltk_data...\n",
            "[nltk_data]   Unzipping taggers/averaged_perceptron_tagger_eng.zip.\n"
          ]
        },
        {
          "output_type": "stream",
          "name": "stdout",
          "text": [
            "The DT\n",
            "quick JJ\n",
            "brown NN\n",
            "fox NN\n",
            "jumps VBZ\n",
            "over IN\n",
            "the DT\n",
            "lazy JJ\n",
            "dog NN\n",
            ". .\n"
          ]
        }
      ]
    }
  ]
}