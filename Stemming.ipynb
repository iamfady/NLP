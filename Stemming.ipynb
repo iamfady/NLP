{
  "nbformat": 4,
  "nbformat_minor": 0,
  "metadata": {
    "colab": {
      "provenance": [],
      "authorship_tag": "ABX9TyMouEQ/32YvVeIf9Js/LLiN",
      "include_colab_link": true
    },
    "kernelspec": {
      "name": "python3",
      "display_name": "Python 3"
    },
    "language_info": {
      "name": "python"
    }
  },
  "cells": [
    {
      "cell_type": "markdown",
      "metadata": {
        "id": "view-in-github",
        "colab_type": "text"
      },
      "source": [
        "<a href=\"https://colab.research.google.com/github/iamfady/NLP/blob/main/Stemming.ipynb\" target=\"_parent\"><img src=\"https://colab.research.google.com/assets/colab-badge.svg\" alt=\"Open In Colab\"/></a>"
      ]
    },
    {
      "cell_type": "markdown",
      "source": [
        "## Stemming\n",
        "\n",
        "\n",
        "\n",
        "Stemming is a natural language processing (NLP) technique used to reduce words to their root or base form, which is called the \"stem.\" Stemming is commonly used as a pre-processing step in text mining and information retrieval tasks, such as document classification, clustering, and search engines.\n",
        "\n",
        "The stem is the part of the word that remains after removing any prefixes or suffixes. For example, the word \"running\" can be reduced to its stem \"run\" by removing the suffix \"-ing\". Similarly, the word \"cats\" can be reduced to its stem \"cat\" by removing the suffix \"-s\".\n",
        "\n",
        "Stemming algorithms use a set of rules or algorithms to perform this process automatically, based on linguistic principles and heuristics. There are several popular stemming algorithms, such as Porter Stemming Algorithm, Snowball Stemming Algorithm, and Lancaster Stemming Algorithm.\n",
        "\n",
        "The primary goal of stemming is to reduce the number of unique words in a corpus, while still preserving the core meaning of the text. This can improve the efficiency and accuracy of many NLP tasks, by reducing the number of distinct tokens that must be processed or analyzed.\n",
        "\n"
      ],
      "metadata": {
        "id": "aU7dgKvJQj_o"
      }
    },
    {
      "cell_type": "code",
      "execution_count": 1,
      "metadata": {
        "colab": {
          "base_uri": "https://localhost:8080/"
        },
        "id": "amrhEMuhQWBB",
        "outputId": "49ca7a02-0217-41e4-c865-19a467829dc6"
      },
      "outputs": [
        {
          "output_type": "stream",
          "name": "stdout",
          "text": [
            "walking -> walk\n",
            "jumps -> jump\n",
            "jumped -> jump\n",
            "jumping -> jump\n"
          ]
        }
      ],
      "source": [
        "import nltk\n",
        "from nltk.stem import PorterStemmer\n",
        "\n",
        "# Create a stemmer object\n",
        "stemmer = PorterStemmer()\n",
        "\n",
        "# Stem some example words\n",
        "words = [\"walking\", \"jumps\", \"jumped\", \"jumping\"]\n",
        "for word in words:\n",
        "    stemmed_word = stemmer.stem(word)\n",
        "    print(f\"{word} -> {stemmed_word}\")"
      ]
    }
  ]
}